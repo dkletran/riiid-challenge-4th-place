{
 "cells": [
  {
   "cell_type": "code",
   "execution_count": 1,
   "metadata": {
    "_cell_guid": "b1076dfc-b9ad-4769-8c92-a6c4dae69d19",
    "_uuid": "8f2839f25d086af736a60e9eeb907d3b93b6e0e5",
    "execution": {
     "iopub.execute_input": "2021-01-20T17:37:13.799073Z",
     "iopub.status.busy": "2021-01-20T17:37:13.798507Z",
     "iopub.status.idle": "2021-01-20T17:37:18.096798Z",
     "shell.execute_reply": "2021-01-20T17:37:18.095660Z"
    },
    "papermill": {
     "duration": 4.312382,
     "end_time": "2021-01-20T17:37:18.096923",
     "exception": false,
     "start_time": "2021-01-20T17:37:13.784541",
     "status": "completed"
    },
    "tags": []
   },
   "outputs": [],
   "source": [
    "import numpy as np # linear algebra\n",
    "import pandas as pd # data processing, CSV file I/O (e.g. pd.read_csv)\n",
    "import tensorflow as tf\n",
    "import pickle\n",
    "import json\n",
    "import typing\n",
    "import math\n",
    "from threading import Lock\n"
   ]
  },
  {
   "cell_type": "code",
   "execution_count": 2,
   "metadata": {
    "execution": {
     "iopub.execute_input": "2021-01-20T17:37:18.117655Z",
     "iopub.status.busy": "2021-01-20T17:37:18.115810Z",
     "iopub.status.idle": "2021-01-20T17:37:18.118274Z",
     "shell.execute_reply": "2021-01-20T17:37:18.118753Z"
    },
    "papermill": {
     "duration": 0.014045,
     "end_time": "2021-01-20T17:37:18.118869",
     "exception": false,
     "start_time": "2021-01-20T17:37:18.104824",
     "status": "completed"
    },
    "tags": []
   },
   "outputs": [],
   "source": [
    "import sys\n",
    "sys.path.append('../input/riiidmodel4thplace/')"
   ]
  },
  {
   "cell_type": "code",
   "execution_count": 3,
   "metadata": {
    "execution": {
     "iopub.execute_input": "2021-01-20T17:37:18.137237Z",
     "iopub.status.busy": "2021-01-20T17:37:18.136717Z",
     "iopub.status.idle": "2021-01-20T17:37:18.268307Z",
     "shell.execute_reply": "2021-01-20T17:37:18.267775Z"
    },
    "papermill": {
     "duration": 0.142134,
     "end_time": "2021-01-20T17:37:18.268405",
     "exception": false,
     "start_time": "2021-01-20T17:37:18.126271",
     "status": "completed"
    },
    "tags": []
   },
   "outputs": [],
   "source": [
    "from modeling import RiiidAnswerModel\n",
    "from model_config import config"
   ]
  },
  {
   "cell_type": "code",
   "execution_count": 4,
   "metadata": {
    "_cell_guid": "79c7e3d0-c299-4dcb-8224-4455121ee9b0",
    "_uuid": "d629ff2d2480ee46fbb7e2d37f6b5fab8052498a",
    "execution": {
     "iopub.execute_input": "2021-01-20T17:37:18.290082Z",
     "iopub.status.busy": "2021-01-20T17:37:18.289554Z",
     "iopub.status.idle": "2021-01-20T17:37:57.335808Z",
     "shell.execute_reply": "2021-01-20T17:37:57.335300Z"
    },
    "papermill": {
     "duration": 39.059808,
     "end_time": "2021-01-20T17:37:57.335920",
     "exception": false,
     "start_time": "2021-01-20T17:37:18.276112",
     "status": "completed"
    },
    "tags": []
   },
   "outputs": [],
   "source": [
    "with open('../input/riiidmodel4thplace/data_map.pickle', 'rb') as f:\n",
    "    data_map = pickle.load(f)\n",
    "\n",
    "    \n",
    "with open(\n",
    "    '../input/riiidmodel4thplace/encoded_content_map_v2.json', \n",
    "    'r') as f:\n",
    "    encoded_content_map = json.load(f)\n",
    "with open(\n",
    "    '../input/riiidmodel4thplace/encoded_content_id_map.json', \n",
    "    'r') as f: \n",
    "    encoded_content_id_map = json.load(f)\n",
    "\n",
    "encoded_content_table = pd.DataFrame.from_dict(\n",
    "    encoded_content_id_map\n",
    ").astype({\n",
    "        'content_id': 'int16',\n",
    "        'content_type_id':'int8',\n",
    "        'encoded_content_id':'int32'\n",
    "    })\n",
    "\n",
    "max_question_id = encoded_content_table[encoded_content_table.content_type_id == 0].encoded_content_id.max()"
   ]
  },
  {
   "cell_type": "code",
   "execution_count": null,
   "metadata": {
    "papermill": {
     "duration": 0.007585,
     "end_time": "2021-01-20T17:37:57.351602",
     "exception": false,
     "start_time": "2021-01-20T17:37:57.344017",
     "status": "completed"
    },
    "tags": []
   },
   "outputs": [],
   "source": []
  },
  {
   "cell_type": "code",
   "execution_count": 5,
   "metadata": {
    "execution": {
     "iopub.execute_input": "2021-01-20T17:37:57.372781Z",
     "iopub.status.busy": "2021-01-20T17:37:57.372151Z",
     "iopub.status.idle": "2021-01-20T17:37:57.376100Z",
     "shell.execute_reply": "2021-01-20T17:37:57.375671Z"
    },
    "papermill": {
     "duration": 0.016933,
     "end_time": "2021-01-20T17:37:57.376179",
     "exception": false,
     "start_time": "2021-01-20T17:37:57.359246",
     "status": "completed"
    },
    "tags": []
   },
   "outputs": [],
   "source": [
    "SEQUENCE_LENGTH = 512\n",
    "BATCH_SIZE = 32\n",
    "data_keys = ['timestamp',\n",
    "             'encoded_content_id',\n",
    "             'user_answer',\n",
    "             'answered_correctly',\n",
    "             'question_elapsed_time',\n",
    "             'question_had_explanation',\n",
    "             'non_padding_mask',\n",
    "             'time_lag']\n",
    "data_types = [\n",
    "            tf.int64,\n",
    "            tf.int32,\n",
    "            tf.int32,\n",
    "            tf.int32,\n",
    "            tf.float32,\n",
    "            tf.int32,\n",
    "            tf.float32,\n",
    "            tf.float32\n",
    "        ]"
   ]
  },
  {
   "cell_type": "code",
   "execution_count": 6,
   "metadata": {
    "execution": {
     "iopub.execute_input": "2021-01-20T17:37:57.409929Z",
     "iopub.status.busy": "2021-01-20T17:37:57.404127Z",
     "iopub.status.idle": "2021-01-20T17:37:57.412875Z",
     "shell.execute_reply": "2021-01-20T17:37:57.412409Z"
    },
    "papermill": {
     "duration": 0.029175,
     "end_time": "2021-01-20T17:37:57.412957",
     "exception": false,
     "start_time": "2021-01-20T17:37:57.383782",
     "status": "completed"
    },
    "tags": []
   },
   "outputs": [],
   "source": [
    "\n",
    "def build_test_ds_function(test_agg_df, data_map):\n",
    "    data = data_map['data']\n",
    "    index_map = data_map['index']\n",
    "    lock = Lock()\n",
    "    def process_row_i(i):\n",
    "        user_id = i.numpy()\n",
    "        row = test_agg_df.loc[user_id]\n",
    "        n = len(row['timestamp'])\n",
    "        index = index_map.get(user_id, None)\n",
    "        if index is not None:\n",
    "            is_question = data['encoded_content_id'][index] <= max_question_id\n",
    "            questions = data['timestamp'][index][is_question]\n",
    "            if len(questions) > 0:\n",
    "                last_question_timestamp = questions.max()\n",
    "                prior_question_cond = data['timestamp'][index] == last_question_timestamp\n",
    "                data['question_elapsed_time'][index][prior_question_cond] = row['prior_question_elapsed_time'][0]\n",
    "                data['question_had_explanation'][index][prior_question_cond] = row['prior_question_had_explanation'][0]\n",
    "            \n",
    "            for k in data_keys:\n",
    "                data[k][index,:-n] = data[k][index, n:]\n",
    "\n",
    "        else:\n",
    "            lock.acquire()\n",
    "            index = data_map['next_index']\n",
    "            index_map[user_id] = index\n",
    "            data_map['next_index'] += 1\n",
    "            lock.release()\n",
    "            \n",
    "        data['timestamp'][index, -n:] = row['timestamp']\n",
    "        data['encoded_content_id'][index,-n:] = row['encoded_content_id']\n",
    "        data['user_answer'][index, -n:] = 0\n",
    "        data['answered_correctly'][index, -n:] = 0\n",
    "        data['question_elapsed_time'][index, -n:] = 0\n",
    "        data['question_had_explanation'][index, -n:] = 0\n",
    "        data['non_padding_mask'][index,-n:] = 1\n",
    "        data['time_lag'][index, -n:] = row['timestamp'][0] - data['timestamp'][index, -(n+1)]\n",
    "        return [data[k][index] for k in data_keys]\n",
    "    def map_function(i):\n",
    "        x = tf.py_function(process_row_i, inp=[i], Tout=data_types)\n",
    "        return {\n",
    "            k:v for k,v in zip(data_keys, x)\n",
    "        }\n",
    "    return tf.data.Dataset.from_tensor_slices(test_agg_df.index).map(\n",
    "        map_function,\n",
    "        num_parallel_calls = tf.data.experimental.AUTOTUNE\n",
    "    ).prefetch(\n",
    "        tf.data.experimental.AUTOTUNE\n",
    "    ).batch(BATCH_SIZE)\n",
    "    "
   ]
  },
  {
   "cell_type": "code",
   "execution_count": 7,
   "metadata": {
    "execution": {
     "iopub.execute_input": "2021-01-20T17:37:57.434331Z",
     "iopub.status.busy": "2021-01-20T17:37:57.433768Z",
     "iopub.status.idle": "2021-01-20T17:37:57.437296Z",
     "shell.execute_reply": "2021-01-20T17:37:57.437701Z"
    },
    "papermill": {
     "duration": 0.017021,
     "end_time": "2021-01-20T17:37:57.437804",
     "exception": false,
     "start_time": "2021-01-20T17:37:57.420783",
     "status": "completed"
    },
    "tags": []
   },
   "outputs": [],
   "source": [
    "def update_map_with_user_answer(data_map, prev_test_agg_df):\n",
    "    data = data_map['data']\n",
    "    for user_id, row in prev_test_agg_df.iterrows():\n",
    "        n = len(row['user_answer'])\n",
    "        index = data_map['index'][user_id]\n",
    "        data['user_answer'][index][-n:] = row['user_answer']\n",
    "        data['answered_correctly'][index][-n:] = row['answered_correctly']\n",
    "\n"
   ]
  },
  {
   "cell_type": "code",
   "execution_count": 8,
   "metadata": {
    "execution": {
     "iopub.execute_input": "2021-01-20T17:37:57.461073Z",
     "iopub.status.busy": "2021-01-20T17:37:57.460560Z",
     "iopub.status.idle": "2021-01-20T17:38:16.564938Z",
     "shell.execute_reply": "2021-01-20T17:38:16.564177Z"
    },
    "papermill": {
     "duration": 19.119427,
     "end_time": "2021-01-20T17:38:16.565060",
     "exception": false,
     "start_time": "2021-01-20T17:37:57.445633",
     "status": "completed"
    },
    "tags": []
   },
   "outputs": [],
   "source": [
    "\n",
    "model = RiiidAnswerModel(\n",
    "        encoded_content_map,\n",
    "        **config\n",
    "        )\n",
    "\n",
    "@tf.function(\n",
    "    input_signature = ({\n",
    "        key : tf.TensorSpec(shape=(None, SEQUENCE_LENGTH), dtype=dt) \n",
    "        for key, dt in zip(data_keys, data_types) \n",
    "    },)\n",
    ")\n",
    "def predict_batch(test_data):\n",
    "    logits = model(test_data, training = False)\n",
    "    logits = tf.squeeze(logits, axis  =-1)\n",
    "    sigmoids = tf.sigmoid(logits)\n",
    "    return sigmoids\n",
    "\n",
    "\n",
    "#load model weights\n",
    "sample_data = {k:data_map['data'][k][0:BATCH_SIZE,:] for k in data_map['data'].keys()}\n",
    "predict_batch(sample_data)\n",
    "model.load_weights('../input/riiidmodel4thplace/weights.h5')\n"
   ]
  },
  {
   "cell_type": "code",
   "execution_count": 9,
   "metadata": {
    "execution": {
     "iopub.execute_input": "2021-01-20T17:38:16.589200Z",
     "iopub.status.busy": "2021-01-20T17:38:16.587219Z",
     "iopub.status.idle": "2021-01-20T17:38:16.589802Z",
     "shell.execute_reply": "2021-01-20T17:38:16.590219Z"
    },
    "papermill": {
     "duration": 0.016726,
     "end_time": "2021-01-20T17:38:16.590321",
     "exception": false,
     "start_time": "2021-01-20T17:38:16.573595",
     "status": "completed"
    },
    "tags": []
   },
   "outputs": [],
   "source": [
    "\n",
    "def predict_and_update(test_agg_df, data_map):\n",
    "    '''\n",
    "    Return : timestamp, sigmoid prediction\n",
    "    '''\n",
    "    ## Padding to have a multiple of batchzize\n",
    "    \n",
    "    test_ds = build_test_ds_function(test_agg_df, data_map)\n",
    "    \n",
    "    probs = []\n",
    "    for test_data in test_ds:\n",
    "        cur_probs = predict_batch(test_data) \n",
    "        probs += tf.unstack(cur_probs)\n",
    "    return probs"
   ]
  },
  {
   "cell_type": "code",
   "execution_count": 10,
   "metadata": {
    "execution": {
     "iopub.execute_input": "2021-01-20T17:38:16.610297Z",
     "iopub.status.busy": "2021-01-20T17:38:16.609803Z",
     "iopub.status.idle": "2021-01-20T17:38:16.631047Z",
     "shell.execute_reply": "2021-01-20T17:38:16.630433Z"
    },
    "papermill": {
     "duration": 0.032573,
     "end_time": "2021-01-20T17:38:16.631140",
     "exception": false,
     "start_time": "2021-01-20T17:38:16.598567",
     "status": "completed"
    },
    "tags": []
   },
   "outputs": [],
   "source": [
    "import riiideducation\n",
    "env = riiideducation.make_env()"
   ]
  },
  {
   "cell_type": "code",
   "execution_count": 11,
   "metadata": {
    "execution": {
     "iopub.execute_input": "2021-01-20T17:38:16.659230Z",
     "iopub.status.busy": "2021-01-20T17:38:16.658688Z",
     "iopub.status.idle": "2021-01-20T17:38:18.205237Z",
     "shell.execute_reply": "2021-01-20T17:38:18.206095Z"
    },
    "papermill": {
     "duration": 1.566636,
     "end_time": "2021-01-20T17:38:18.206280",
     "exception": false,
     "start_time": "2021-01-20T17:38:16.639644",
     "status": "completed"
    },
    "tags": []
   },
   "outputs": [
    {
     "name": "stdout",
     "output_type": "stream",
     "text": [
      "CPU times: user 612 ms, sys: 89.1 ms, total: 701 ms\n",
      "Wall time: 1.54 s\n"
     ]
    }
   ],
   "source": [
    "%%time\n",
    "\n",
    "iter_test = env.iter_test()\n",
    "prev_test_df = None\n",
    "for test_df, sample_prediction_df in iter_test:\n",
    "    if prev_test_df is not None:\n",
    "        '''\n",
    "        Updating answers of previous batch\n",
    "        '''\n",
    "        prev_test_df['user_answer'] = eval(test_df.prior_group_responses.iloc[0])\n",
    "        prev_test_df['answered_correctly'] = eval(test_df.prior_group_answers_correct.iloc[0])\n",
    "        \n",
    "        prev_test_agg_df = prev_test_df.groupby(\n",
    "                'user_id',\n",
    "                sort = False,\n",
    "                as_index = True\n",
    "            )[['user_answer', 'answered_correctly'\n",
    "                                   ]].agg(list)\n",
    "        \n",
    "        update_map_with_user_answer(data_map, prev_test_agg_df)\n",
    "\n",
    "    \n",
    "    '''\n",
    "    Now build test data for the current batch\n",
    "    '''\n",
    "    \n",
    "    test_df.fillna(0, inplace = True)\n",
    "    test_agg_df = test_df.merge(\n",
    "            encoded_content_table,\n",
    "            on = ['content_id', 'content_type_id'],\n",
    "            how = 'left'\n",
    "        ).fillna(0).groupby('user_id', \n",
    "                            sort = False,\n",
    "                            as_index = True)[['timestamp',\n",
    "                                           'encoded_content_id',\n",
    "                                           'prior_question_elapsed_time',\n",
    "                                           'prior_question_had_explanation',\n",
    "                                           'row_id'\n",
    "                                          ]].agg(list)\n",
    "   \n",
    "    probs = predict_and_update(test_agg_df, data_map)\n",
    "    \n",
    "    extracted_probs = []\n",
    "    row_id = []\n",
    "    \n",
    "    \n",
    "    for prob, (_, row) in zip(probs, \n",
    "                                 test_agg_df.iterrows()):\n",
    "            \n",
    "        '''\n",
    "        Finding the indices and extract probs for each user\n",
    "        '''\n",
    "        n = len(row['row_id'])\n",
    "        extracted_probs += prob[-n:].numpy().tolist()\n",
    "        row_id += row['row_id']\n",
    "    \n",
    "    pred_df = pd.DataFrame.from_dict({\n",
    "            'row_id':row_id,\n",
    "            'answered_correctly': extracted_probs,\n",
    "    })\n",
    "    pred_df = sample_prediction_df[['row_id']].merge(\n",
    "        pred_df, \n",
    "        on = 'row_id',\n",
    "        how = 'left'\n",
    "    ).fillna(0.5)\n",
    "        \n",
    "    env.predict(pred_df)\n",
    "\n",
    "    prev_test_df = test_df\n"
   ]
  }
 ],
 "metadata": {
  "kernelspec": {
   "display_name": "Python 3",
   "language": "python",
   "name": "python3"
  },
  "language_info": {
   "codemirror_mode": {
    "name": "ipython",
    "version": 3
   },
   "file_extension": ".py",
   "mimetype": "text/x-python",
   "name": "python",
   "nbconvert_exporter": "python",
   "pygments_lexer": "ipython3",
   "version": "3.7.6"
  },
  "papermill": {
   "duration": 69.805213,
   "end_time": "2021-01-20T17:38:19.550545",
   "environment_variables": {},
   "exception": null,
   "input_path": "__notebook__.ipynb",
   "output_path": "__notebook__.ipynb",
   "parameters": {},
   "start_time": "2021-01-20T17:37:09.745332",
   "version": "2.1.0"
  }
 },
 "nbformat": 4,
 "nbformat_minor": 4
}
